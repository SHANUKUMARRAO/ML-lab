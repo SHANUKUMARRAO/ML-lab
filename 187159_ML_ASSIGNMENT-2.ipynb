{
 "cells": [
  {
   "cell_type": "code",
   "execution_count": 1,
   "metadata": {
    "id": "4xy9Mqr3W6eu"
   },
   "outputs": [
    {
     "name": "stdout",
     "output_type": "stream",
     "text": [
      "187159 SHANU KUMAR \n",
      "LAB ASSIGNMENT 2\n"
     ]
    }
   ],
   "source": [
    "print(\"187159 SHANU KUMAR \")\n",
    "print(\"LAB ASSIGNMENT 2\")"
   ]
  },
  {
   "cell_type": "code",
   "execution_count": 8,
   "metadata": {},
   "outputs": [],
   "source": [
    "import numpy as np\n",
    "import matplotlib.pyplot as plt\n",
    "import pandas as pd"
   ]
  },
  {
   "cell_type": "code",
   "execution_count": 5,
   "metadata": {
    "id": "QlzK8FIDYfoh"
   },
   "outputs": [],
   "source": [
    "def predict_adaline(X,weights):\n",
    "  prediction = np.dot(weights,X)\n",
    "  if prediction>0:\n",
    "    return 1\n",
    "  return 0"
   ]
  },
  {
   "cell_type": "code",
   "execution_count": 9,
   "metadata": {
    "id": "dFNdYK4_ZQFy"
   },
   "outputs": [],
   "source": [
    "X= np.array([\n",
    "               [1,0,0],\n",
    "               [1,0,1],\n",
    "               [1,1,0],\n",
    "               [1,1,1]\n",
    "               ])"
   ]
  },
  {
   "cell_type": "code",
   "execution_count": 10,
   "metadata": {
    "id": "t6WeGcmYYyJE"
   },
   "outputs": [],
   "source": [
    "def adaline_model(X,y,weights,learning_rate,epochs):\n",
    "  for _ in range(epochs):\n",
    "    MSE=0\n",
    "    for feature,correct in zip(X,y):\n",
    "      output = np.dot(weights,feature)\n",
    "      error = correct-output\n",
    "      MSE +=error**2\n",
    "\n",
    "      #Updating Weights\n",
    "      weights[0]+=learning_rate*error\n",
    "      weights[1]+=feature[1]*learning_rate*error\n",
    "      weights[2]+= feature[2]*learning_rate*error\n",
    "    MSE /=X.shape[1]\n",
    "    print(\"MSE : \",MSE)\n",
    "  \n",
    "  return weights\n",
    "      \n",
    "\n"
   ]
  },
  {
   "cell_type": "code",
   "execution_count": 11,
   "metadata": {
    "id": "YcHHjEj4hiMP"
   },
   "outputs": [],
   "source": [
    "def plotGraph(weights,X,y):\n",
    "  x1=[0,1]\n",
    "  m=-weights[1]/weights[2]\n",
    "  c=-weights[0]/weights[2]\n",
    "  x2=np.asarray(x1)*m+c\n",
    "  color=[]\n",
    "  for i in y:\n",
    "    if(i==1):\n",
    "      color.append(\"blue\")\n",
    "    else:\n",
    "      color.append(\"red\")\n",
    "  for i in range(4):\n",
    "   plt.scatter(X[i][1],X[i][2],c=color[i],s=100,linewidth=0)\n",
    "  plt.plot(x1,x2)\n",
    "  plt.show()"
   ]
  },
  {
   "cell_type": "markdown",
   "metadata": {
    "id": "NnmbpHNVc1Wq"
   },
   "source": [
    "## AND Gate"
   ]
  },
  {
   "cell_type": "code",
   "execution_count": 12,
   "metadata": {
    "colab": {
     "base_uri": "https://localhost:8080/",
     "height": 574
    },
    "id": "90hKTOFha-l_",
    "outputId": "579b72a5-fc24-42b8-8e74-cf32ca8d53c7"
   },
   "outputs": [
    {
     "name": "stdout",
     "output_type": "stream",
     "text": [
      "MSE :  624.9961653333334\n",
      "MSE :  84.43391614319272\n",
      "MSE :  43.1832177565821\n",
      "MSE :  30.19642906188228\n",
      "MSE :  22.13597810104814\n",
      "MSE :  16.37442391818829\n",
      "MSE :  12.143486058346918\n",
      "MSE :  9.019610241397698\n",
      "MSE :  6.7103140274851825\n",
      "MSE :  5.0025218098592426\n",
      "MSE :  3.739257813687454\n",
      "MSE :  2.8046036631406364\n",
      "MSE :  2.112911256177927\n",
      "MSE :  1.600884930464604\n",
      "MSE :  1.221741431153767\n",
      "Weights for AND logic : \n",
      "[-1.60580323  1.39319021  1.44719722]\n"
     ]
    },
    {
     "data": {
      "image/png": "[encoded data removed]",
      "text/plain": [
       "<Figure size 432x288 with 1 Axes>"
      ]
     },
     "metadata": {
      "needs_background": "light"
     },
     "output_type": "display_data"
    }
   ],
   "source": [
    " # define AND logic gate outputs\n",
    "y = [0,0,0,1]\n",
    "#train weights\n",
    "weights_AND= np.array([-30,.30,.30])\n",
    "weights_AND = adaline_model(X,y,weights_AND,0.2,15)\n",
    "print(\"Weights for AND logic : \")\n",
    "print(weights_AND)\n",
    "plotGraph(weights_AND,X,y)"
   ]
  },
  {
   "cell_type": "markdown",
   "metadata": {
    "id": "6Ou1p-yOdzty"
   },
   "source": [
    "## OR Gate"
   ]
  },
  {
   "cell_type": "code",
   "execution_count": 14,
   "metadata": {
    "colab": {
     "base_uri": "https://localhost:8080/",
     "height": 574
    },
    "id": "LJpyuC3Ud2Ag",
    "outputId": "3a48bf84-4bbd-4256-8f3a-6b37ae670e4e"
   },
   "outputs": [
    {
     "name": "stdout",
     "output_type": "stream",
     "text": [
      "MSE :  100.98423199999998\n",
      "MSE :  31.003664540622072\n",
      "MSE :  12.96066315190018\n",
      "MSE :  7.671774301667941\n",
      "MSE :  5.6897462768131755\n",
      "MSE :  4.663363328472049\n",
      "MSE :  3.9723688992299984\n",
      "MSE :  3.4357162405030173\n",
      "MSE :  2.9914591976851916\n",
      "MSE :  2.613408744362221\n",
      "MSE :  2.2876910122911984\n",
      "MSE :  2.005418044427412\n",
      "MSE :  1.760095053758479\n",
      "MSE :  1.5465808969277566\n",
      "MSE :  1.3606183094184\n",
      "MSE :  1.1985948273700602\n",
      "MSE :  1.0574051728004112\n",
      "MSE :  0.9343618436865319\n",
      "MSE :  0.827130647302574\n",
      "MSE :  0.7336805147001858\n",
      "Weights for OR  \n",
      "[-0.79491354  1.21655812  1.28951521]\n"
     ]
    },
    {
     "data": {
      "image/png": "[encoded data removed]",
      "text/plain": [
       "<Figure size 432x288 with 1 Axes>"
      ]
     },
     "metadata": {
      "needs_background": "light"
     },
     "output_type": "display_data"
    }
   ],
   "source": [
    "y = [0,1,1,1] #output labels for OR gate\n",
    "#train weights\n",
    "weights_OR= np.array([-10,.30,.30])\n",
    "weights_OR = adaline_model(X,y,weights_OR,0.1,20)\n",
    "print(\"Weights for OR  \")\n",
    "print(weights_OR)\n",
    "plotGraph(weights_OR,X,y)"
   ]
  },
  {
   "cell_type": "markdown",
   "metadata": {
    "id": "oO-itliiexR7"
   },
   "source": [
    "## Multilevel Adaline for XOR"
   ]
  },
  {
   "cell_type": "code",
   "execution_count": 19,
   "metadata": {
    "colab": {
     "base_uri": "https://localhost:8080/",
     "height": 828
    },
    "id": "b7XDa4hMezR3",
    "outputId": "f75473d7-988f-4351-bee3-672da11e0c5a"
   },
   "outputs": [
    {
     "name": "stdout",
     "output_type": "stream",
     "text": [
      "MSE :  5669.483868666666\n",
      "MSE :  507.3790030597752\n",
      "MSE :  286.87582315812597\n",
      "MSE :  171.67596114639912\n",
      "MSE :  103.03062635013049\n",
      "MSE :  61.92443424934738\n",
      "MSE :  37.28167826928549\n",
      "MSE :  22.494949189735795\n",
      "MSE :  13.614515711814944\n",
      "MSE :  8.276575133600696\n",
      "MSE :  5.0650726501840175\n",
      "MSE :  3.130986705946199\n",
      "MSE :  1.9648823280017762\n",
      "MSE :  1.2608684098730214\n",
      "MSE :  0.8351455776184645\n",
      " 1\n",
      " 0 \n",
      " output = 0 \n",
      "\n",
      " 1\n",
      " 1 \n",
      " output = 1 \n",
      "\n",
      " 1\n",
      " 1 \n",
      " output = 1 \n",
      "\n",
      " 0\n",
      " 1 \n",
      " output = 0 \n",
      "\n"
     ]
    }
   ],
   "source": [
    "#here we can not get XOR using single layer so we will use multilayer\n",
    "Y_NAND = [1,1,1,0] #output labels for NAND gate\n",
    "#train weights\n",
    "weights_NAND= np.array([100,0.25,0.25])\n",
    "weights_NAND = adaline_model(X,Y_NAND,weights_NAND,0.3,15)\n",
    "\n",
    "Y1=[]\n",
    "Y2=[]\n",
    "for i in range(len(X)):\n",
    "  Y1.append(predict_adaline(weights_NAND,X[i]))\n",
    "  Y2.append(predict_adaline(weights_OR,X[i]))\n",
    "\n",
    "X_xor=pd.DataFrame({'a':np.full(len(Y1),1),'b':Y1,'c':Y2})\n",
    "Y_xor=[]\n",
    "\n",
    "for i in range(len(X_xor)):\n",
    "  prediction = predict_adaline(X_xor.iloc[i,:],weights_AND)\n",
    "  Y_xor.append(prediction)\n",
    "  print(X_xor.iloc[i,1:3].to_string(index=False,header=False),end = ' \\n output = ')\n",
    "  print(prediction, \"\\n\")\n",
    "\n",
    "\n"
   ]
  },
  {
   "cell_type": "code",
   "execution_count": 17,
   "metadata": {
    "id": "VlJvA6K0va_1"
   },
   "outputs": [
    {
     "data": {
      "image/png": "[encoded data removed]",
      "text/plain": [
       "<Figure size 432x288 with 1 Axes>"
      ]
     },
     "metadata": {
      "needs_background": "light"
     },
     "output_type": "display_data"
    }
   ],
   "source": [
    "color=[]\n",
    "for i in Y_xor:\n",
    "  if(i==1):\n",
    "    color.append(\"blue\")\n",
    "  else:\n",
    "    color.append(\"red\")\n",
    "for i in range(4):\n",
    "  plt.scatter(X[i][1],X[i][2],c=color[i],s=100,linewidth=0)"
   ]
  },
  {
   "cell_type": "code",
   "execution_count": null,
   "metadata": {},
   "outputs": [],
   "source": []
  },
  {
   "cell_type": "code",
   "execution_count": null,
   "metadata": {},
   "outputs": [],
   "source": []
  }
 ],
 "metadata": {
  "colab": {
   "name": "187226_ML_2.ipynb",
   "provenance": []
  },
  "kernelspec": {
   "display_name": "Python 3",
   "language": "python",
   "name": "python3"
  },
  "language_info": {
   "codemirror_mode": {
    "name": "ipython",
    "version": 3
   },
   "file_extension": ".py",
   "mimetype": "text/x-python",
   "name": "python",
   "nbconvert_exporter": "python",
   "pygments_lexer": "ipython3",
   "version": "3.8.5"
  }
 },
 "nbformat": 4,
 "nbformat_minor": 1
}
