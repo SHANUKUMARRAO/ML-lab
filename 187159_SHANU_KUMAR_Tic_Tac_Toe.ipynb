{
 "cells": [
  {
   "cell_type": "code",
   "execution_count": null,
   "metadata": {},
   "outputs": [],
   "source": [
    "ML ASSIGNMENT-5\n",
    "ROLL NUMBER: 187159\n",
    "NAME: SHANU KUMAR\n",
    "Q5. Implement a machine learning program to play 5× 5 Tic tac toe game. \n",
    "The program should use least means square learning rule."
   ]
  },
  {
   "cell_type": "code",
   "execution_count": 1,
   "metadata": {
    "id": "bKBuBU-ONEL-"
   },
   "outputs": [],
   "source": [
    "import numpy as np\n",
    "import random\n",
    "import copy"
   ]
  },
  {
   "cell_type": "markdown",
   "metadata": {
    "id": "r5HyrS1NNEL_"
   },
   "source": [
    "This Board Size parameter can be varied and set to any value"
   ]
  },
  {
   "cell_type": "code",
   "execution_count": 2,
   "metadata": {
    "id": "JOcAjzobNEL_"
   },
   "outputs": [],
   "source": [
    "BoardSize = 5"
   ]
  },
  {
   "cell_type": "markdown",
   "metadata": {
    "id": "6JbCNrfONEMA"
   },
   "source": [
    "Initializing board to blank characters"
   ]
  },
  {
   "cell_type": "code",
   "execution_count": 3,
   "metadata": {
    "id": "bU49UzpgNEMA"
   },
   "outputs": [],
   "source": [
    "def initializeBoard():\n",
    "    return [[' ' for _ in range(BoardSize)] for _ in range(BoardSize)]"
   ]
  },
  {
   "cell_type": "markdown",
   "metadata": {
    "id": "nqzz_1PdNEMB"
   },
   "source": [
    "This function checks whether all symbols in a row are the same or not, indicating end of game"
   ]
  },
  {
   "cell_type": "code",
   "execution_count": 4,
   "metadata": {
    "id": "Rr27Vz50NEMB"
   },
   "outputs": [],
   "source": [
    "def checkRow(board, symbol):\n",
    "    #Checking for same symbol in a row\n",
    "    for i in range(BoardSize):\n",
    "        colFlag = True\n",
    "        for j in range(BoardSize):\n",
    "            colFlag = colFlag and (board[i][j]==symbol)\n",
    "        if(colFlag):\n",
    "            return True\n",
    "    return False"
   ]
  },
  {
   "cell_type": "markdown",
   "metadata": {
    "id": "vzBCzjVLNEMC"
   },
   "source": [
    "This function checks whether all symbols in a column are the same or not, indicating end of game"
   ]
  },
  {
   "cell_type": "code",
   "execution_count": 5,
   "metadata": {
    "id": "TMVznEmUNEMD"
   },
   "outputs": [],
   "source": [
    "def checkColumn(board, symbol):\n",
    "    #Checking for same symbol in a column\n",
    "    for j in range(BoardSize):\n",
    "        rowFlag = True\n",
    "        for i in range(BoardSize):\n",
    "            rowFlag = rowFlag and (board[i][j]==symbol)\n",
    "        if(rowFlag):\n",
    "            return True\n",
    "    return False"
   ]
  },
  {
   "cell_type": "markdown",
   "metadata": {
    "id": "OIRypcOUNEMD"
   },
   "source": [
    "This function checks whether all symbols in either of the diagonals are the same or not, indicating end of game"
   ]
  },
  {
   "cell_type": "code",
   "execution_count": 6,
   "metadata": {
    "id": "YpT2UXIYNEME"
   },
   "outputs": [],
   "source": [
    "def checkDiagonals(board, symbol):\n",
    "    #Checking for same symbol in a diagonal\n",
    "    diag1Flag,diag2Flag = True, True\n",
    "    for i in range(BoardSize):\n",
    "        diag1Flag = diag1Flag and (board[i][i]==symbol)\n",
    "        diag2Flag = diag2Flag and (board[BoardSize-1-i][i]==symbol)\n",
    "    return (diag1Flag or diag2Flag)"
   ]
  },
  {
   "cell_type": "markdown",
   "metadata": {
    "id": "uSJyigDWNEME"
   },
   "source": [
    "Checks if game has reached its end"
   ]
  },
  {
   "cell_type": "code",
   "execution_count": 7,
   "metadata": {
    "id": "FYbXIa3XNEMF"
   },
   "outputs": [],
   "source": [
    "def isGameOver(board, symbol):\n",
    "    flag = (board==-1) #-1 used to indicate if game as already ended\n",
    "    flag = flag or checkRow(board,symbol) or checkColumn(board, symbol) or checkDiagonals(board, symbol)\n",
    "    flag = flag or (' ' not in np.array(board).flatten()) # all entries are filled (drawn state)\n",
    "    return flag"
   ]
  },
  {
   "cell_type": "markdown",
   "metadata": {
    "id": "nNh_77A8NEMF"
   },
   "source": [
    "Returns an array of all possible next moves"
   ]
  },
  {
   "cell_type": "code",
   "execution_count": 8,
   "metadata": {
    "id": "T_HIZ9lhNEMF"
   },
   "outputs": [],
   "source": [
    "def getLegalMoves(boardState, symbol):\n",
    "    \n",
    "    legalMoves = []\n",
    "    for i in range(len(boardState[0])):\n",
    "        for j in range(len(boardState[0])):\n",
    "            if(boardState[i][j] == ' '):\n",
    "                tempBoard = copy.deepcopy(boardState)\n",
    "                tempBoard[i][j]=symbol\n",
    "                legalMoves.append(tempBoard)\n",
    "    return legalMoves"
   ]
  },
  {
   "cell_type": "markdown",
   "metadata": {
    "id": "1sv5FbtANEMG"
   },
   "source": [
    "Extracts feature vector. Each feature is defined as:\n",
    "\n",
    "For ($1\\le i \\le BoardSize$):\n",
    "\n",
    "$x_i$ = sum of the counts of number of \"symbol1\" in all rows or columns is i\n",
    "\n",
    "For ($BoardSize + 1 \\le i \\le 2*BoardSize$):\n",
    "\n",
    "$x_i$ = sum of the counts of number of \"symbol2\" in all rows or columns is i"
   ]
  },
  {
   "cell_type": "code",
   "execution_count": 9,
   "metadata": {
    "id": "ho_ttU_XNEMG"
   },
   "outputs": [],
   "source": [
    "def getFeatures(board, symbol1, symbol2):\n",
    "    \n",
    "    x = np.zeros(2*BoardSize+1)\n",
    "    x[0] = 1\n",
    "    #Extracting row features\n",
    "    for i in range(BoardSize):\n",
    "        cntSymbol1,cntSymbol2 = 0,0\n",
    "        for j in range(BoardSize):\n",
    "            if(board[i][j]==symbol1):\n",
    "                cntSymbol1+=1\n",
    "            elif(board[i][j]==symbol2):\n",
    "                cntSymbol2+=1\n",
    "        if(cntSymbol1>=1):\n",
    "            x[cntSymbol1]+=1\n",
    "        if(cntSymbol2>=1):\n",
    "            x[cntSymbol2+BoardSize]+=1\n",
    "    \n",
    "    #Extracting column features\n",
    "    for j in range(BoardSize):\n",
    "        cntSymbol1,cntSymbol2 = 0,0\n",
    "        for i in range(BoardSize):\n",
    "            if(board[i][j]==symbol1):\n",
    "                cntSymbol1+=1\n",
    "            elif(board[i][j]==symbol2):\n",
    "                cntSymbol2+=1\n",
    "        if(cntSymbol1>=1):\n",
    "            x[cntSymbol1]+=1\n",
    "        if(cntSymbol2>=1):\n",
    "            x[cntSymbol2+BoardSize]+=1\n",
    "            \n",
    "    return x"
   ]
  },
  {
   "cell_type": "markdown",
   "metadata": {
    "id": "5x9Z8_DCNEMH"
   },
   "source": [
    "This function prints the board in a visually sound format"
   ]
  },
  {
   "cell_type": "code",
   "execution_count": 10,
   "metadata": {
    "id": "mIerlRwWNEMH"
   },
   "outputs": [],
   "source": [
    "def printBoard(board):\n",
    "    for i in range(BoardSize):\n",
    "        for j in range(BoardSize):\n",
    "            print(board[i][j],end='|')\n",
    "        print()\n",
    "        for _ in range(2*BoardSize):\n",
    "            print(\"-\",end='')\n",
    "        print()"
   ]
  },
  {
   "cell_type": "markdown",
   "metadata": {
    "id": "qxNLcDu9NEMI"
   },
   "source": [
    "Computes weighted sum of weight vector and feature vector to get the Non-Final Board state\n",
    "\n",
    "$ z = \\sum_{i=0}^{n}w_{i}.x_{i}$"
   ]
  },
  {
   "cell_type": "code",
   "execution_count": 11,
   "metadata": {
    "id": "BTLNliakNEMI"
   },
   "outputs": [],
   "source": [
    "def getNonFinalBoardScore(weightVector,featureVector):\n",
    "    weightVector = np.array(weightVector).reshape((len(weightVector),1))\n",
    "    featureVector = np.array(featureVector).reshape((len(featureVector),1))\n",
    "    boardScore = np.dot(weightVector.T,featureVector)\n",
    "    return(boardScore[0][0])"
   ]
  },
  {
   "cell_type": "markdown",
   "metadata": {
    "id": "zNGckohYNEMI"
   },
   "source": [
    "Chooses the next move based on the board state which has maximum board score"
   ]
  },
  {
   "cell_type": "code",
   "execution_count": 12,
   "metadata": {
    "id": "i31PwoCBNEMI"
   },
   "outputs": [],
   "source": [
    "def chooseMove(board,symbol1,symbol2,weightVector):\n",
    "\n",
    "    legalMoves = getLegalMoves(board,symbol1)\n",
    "    legalMoveScores = [getNonFinalBoardScore(weightVector,\n",
    "                                             getFeatures(i,symbol1,symbol2)) for i in legalMoves]\n",
    "    return legalMoves[np.argmax(legalMoveScores)]"
   ]
  },
  {
   "cell_type": "markdown",
   "metadata": {
    "id": "ufHDvbvZNEMJ"
   },
   "source": [
    "Random move choice made by the opponent the computer is playing with in the training phase, as the model learns by playing itself"
   ]
  },
  {
   "cell_type": "code",
   "execution_count": 13,
   "metadata": {
    "id": "YyVx9kx1NEMJ"
   },
   "outputs": [],
   "source": [
    "def chooseRandomMove(board,symbol):\n",
    "    legalMoves = getLegalMoves(board,symbol)\n",
    "    return random.choice(legalMoves)"
   ]
  },
  {
   "cell_type": "markdown",
   "metadata": {
    "id": "7BxozOCvNEMJ"
   },
   "source": [
    "The model plays a game with itself where the opponent is a random move chooser. This function generates and stores the game history of a single game from start to finish, used for training."
   ]
  },
  {
   "cell_type": "code",
   "execution_count": 14,
   "metadata": {
    "id": "UPxF6fkcNEMJ"
   },
   "outputs": [],
   "source": [
    "def getGameHistory(symbols,weightVector1,weightVector2,board):\n",
    "    gameHistory = []\n",
    "    gameStatusFlag = True\n",
    "    \n",
    "    tempBoard = copy.deepcopy(board)\n",
    "    while(gameStatusFlag):\n",
    "        tempBoard = chooseMove(tempBoard,symbols[0],symbols[1],weightVector1)\n",
    "        gameHistory.append(tempBoard)\n",
    "        gameStatusFlag = not isGameOver(tempBoard,symbols[0])\n",
    "        if(gameStatusFlag == False):\n",
    "            break\n",
    "        tempBoard = chooseRandomMove(tempBoard,symbols[1])\n",
    "        gameHistory.append(tempBoard)\n",
    "        gameStatusFlag =  not isGameOver(tempBoard,symbols[1])\n",
    "    return gameHistory"
   ]
  },
  {
   "cell_type": "markdown",
   "metadata": {
    "id": "KL4d2--bNEMJ"
   },
   "source": [
    "Assigning +100 value to a final winning board state and -100 to final losing board state.\n",
    "For a drawn game, value 0 is assigned."
   ]
  },
  {
   "cell_type": "code",
   "execution_count": 15,
   "metadata": {
    "id": "EvbKOeUtNEMK"
   },
   "outputs": [],
   "source": [
    "def getFinalBoardScore(board,symbol1,symbol2):\n",
    "\n",
    "    # If game ends in a draw\n",
    "    score = 0\n",
    "    # If player-1 wins\n",
    "    if(checkRow(board,symbol1) or checkColumn(board, symbol1) or checkDiagonals(board, symbol1)):\n",
    "        score = 100\n",
    "    # If player-2 (i.e opponent) wins\n",
    "    elif(checkRow(board,symbol2) or checkColumn(board, symbol2) or checkDiagonals(board, symbol2)):\n",
    "        score = -100\n",
    "    \n",
    "    return score"
   ]
  },
  {
   "cell_type": "markdown",
   "metadata": {
    "id": "1o9y4Vh9NEMK"
   },
   "source": [
    "Computes scores of all board states in the game history and returns it as \"TrainingData\""
   ]
  },
  {
   "cell_type": "code",
   "execution_count": 16,
   "metadata": {
    "id": "MN4x2qA6NEMK"
   },
   "outputs": [],
   "source": [
    "def getTrainingSamples(weightVector,symbol1,symbol2,gameHistory):\n",
    "\n",
    "    trainingData=[]\n",
    "    for i in range(len(gameHistory)-1):\n",
    "        featureVector = getFeatures(gameHistory[i+1],symbol1,symbol2)\n",
    "        trainingData.append([featureVector,getNonFinalBoardScore(weightVector,featureVector)])\n",
    "    trainingData.append([getFeatures(gameHistory[-1],symbol1,symbol2),\n",
    "        getFinalBoardScore(gameHistory[-1],symbol1,symbol2)])\n",
    "    return trainingData"
   ]
  },
  {
   "cell_type": "markdown",
   "metadata": {
    "id": "bXnA19jXNEMK"
   },
   "source": [
    "Returns count of wins, losses and drawn games"
   ]
  },
  {
   "cell_type": "code",
   "execution_count": 17,
   "metadata": {
    "id": "v58Gx080NEMK"
   },
   "outputs": [],
   "source": [
    "def getGameStatusCount(symbol1,symbol2,gameStatusCount,gameHistory):\n",
    "\n",
    "#     for board in gameHistory:\n",
    "#         printBoard(board)\n",
    "    finalScore = getFinalBoardScore(gameHistory[-1],symbol1,symbol2)\n",
    "    if(finalScore == 100):\n",
    "#         print(symbol1 + \" wins\")\n",
    "        gameStatusCount[0] += 1\n",
    "    elif(finalScore == -100):\n",
    "#         print(symbol2 + \" wins\")\n",
    "        gameStatusCount[1] += 1\n",
    "    else:\n",
    "#         print(\"Draw\")\n",
    "        gameStatusCount[2] += 1\n",
    "    return gameStatusCount"
   ]
  },
  {
   "cell_type": "markdown",
   "metadata": {
    "id": "KNxv4oTjNEML"
   },
   "source": [
    "Least Mean Square (LMS) weight update rule is applied here as:\n",
    "\n",
    "$W_i = W_i + \\alpha * (\\hat{V}(boardState)-\\hat{V}(Successor(boardState))) * X $\n",
    "\n",
    "Here $\\hat{V}(b)$ is the real valued score assigned to board state b\n",
    "\n",
    "$\\alpha$ is the learning rate\n",
    "\n",
    "$Successor(b)$ is the next board state"
   ]
  },
  {
   "cell_type": "code",
   "execution_count": 18,
   "metadata": {
    "id": "dhH1Iw2LNEML"
   },
   "outputs": [],
   "source": [
    "def LMSRule(weightVector,trainData,lRate=0.01):\n",
    "    for t in trainData:\n",
    "        vTrainBoardState = t[1]\n",
    "        vHatBoardState = getNonFinalBoardScore(weightVector,t[0])\n",
    "        weightVector = weightVector + (lRate * (vTrainBoardState - vHatBoardState) * np.array(t[0]))\n",
    "    return weightVector"
   ]
  },
  {
   "cell_type": "code",
   "execution_count": 19,
   "metadata": {
    "id": "pYVqcNvxNEML"
   },
   "outputs": [],
   "source": [
    "symbols = ('X','O')\n",
    "numTrainingExamples = 5000"
   ]
  },
  {
   "cell_type": "markdown",
   "metadata": {
    "id": "fvZiwNgxNEML"
   },
   "source": [
    "### Training the Model\n",
    "\n",
    "Using all function defined above:\n",
    "\n",
    "The *Experiment Generator* gives the initial board state.\n",
    "\n",
    "The *Performance System* solves the task, here it is playing a game of Tic-Tac-Toe by using learnt weights.\n",
    "\n",
    "The *Critic* takes input the game history and outputs set of training samples of the target function.\n",
    "\n",
    "The *Generalizer* here is the LMS algorithm that takes input the generated training samples and updates the weights."
   ]
  },
  {
   "cell_type": "code",
   "execution_count": 20,
   "metadata": {
    "colab": {
     "base_uri": "https://localhost:8080/"
    },
    "id": "93iqzUYrNEML",
    "outputId": "6f1c7c48-9818-450c-d5a8-6e206fc5b9c7",
    "scrolled": false
   },
   "outputs": [
    {
     "name": "stdout",
     "output_type": "stream",
     "text": [
      "\n",
      "Training Results: (#Games Player-1 Wins = 3373, #Games Player-2 Wins = 55, Games Drawn = 1572)\n",
      "\n",
      "Final Learnt Weight Vector: \n",
      "[5.026693194964783, 9.10607210984238, -1.4698048176273162, -6.640879559375607, -10.678978659933117, 53.72508888756845, 0.6671327799896415, -1.7430541404941593, 8.260418442564367, 6.909356276392953, 0.8071862281504834]\n"
     ]
    }
   ],
   "source": [
    "weightVectors = [np.random.rand(2*BoardSize+1),np.random.rand(2*BoardSize+1)]\n",
    "gameStatusCount = [0,0,0]\n",
    "\n",
    "for _ in range(numTrainingExamples):\n",
    "    \n",
    "    # Experiment Generator\n",
    "    initialBoardState = initializeBoard()\n",
    "\n",
    "    # Performance System\n",
    "    gameHistory = getGameHistory(symbols,weightVectors[0],weightVectors[1],initialBoardState)\n",
    "\n",
    "    # Critic\n",
    "    trainDataPlayer1 = getTrainingSamples(weightVectors[0],symbols[0],symbols[1],gameHistory)\n",
    "    trainDataPlayer2 = getTrainingSamples(weightVectors[1],symbols[1],symbols[0],gameHistory)\n",
    "    \n",
    "    # Display board states\n",
    "    gameStatusCount = getGameStatusCount(symbols[0],symbols[1],gameStatusCount,gameHistory)\n",
    "\n",
    "    # Generalizer\n",
    "    weightVectors = [LMSRule(weightVectors[0],trainDataPlayer1),LMSRule(weightVectors[1],trainDataPlayer1)]\n",
    "\n",
    "\n",
    "print(\"\\nTraining Results: (\" + \"#Games Player-1 Wins = \" + str(gameStatusCount[0]) +\n",
    "    \", #Games Player-2 Wins = \" + str(gameStatusCount[1]) + \", Games Drawn = \" + str(gameStatusCount[2]) +\n",
    "    \")\\n\")\n",
    "\n",
    "# Weight Learnt from previous games\n",
    "learntWeight =  list(np.mean(np.array([weightVectors[0],weightVectors[1]]),axis = 0))\n",
    "print(\"Final Learnt Weight Vector: \\n\"+ str(learntWeight))\n",
    "\n"
   ]
  },
  {
   "cell_type": "markdown",
   "metadata": {
    "id": "_I1fGhAtNEMM"
   },
   "source": [
    "### Play the TIC-TAC-TOE game with the learned model"
   ]
  },
  {
   "cell_type": "code",
   "execution_count": 25,
   "metadata": {
    "colab": {
     "base_uri": "https://localhost:8080/"
    },
    "id": "VD6fyim4NEMM",
    "outputId": "37fafb74-ee1f-4716-bd66-b7f457783c61",
    "scrolled": false
   },
   "outputs": [
    {
     "name": "stdout",
     "output_type": "stream",
     "text": [
      "\n",
      "Start Playing with Computer?(y/n)\n",
      "y\n",
      "Choose symbol: X or O\n",
      "X\n",
      "\n",
      "Game begins!!!\n",
      "\n",
      "Your Turn:\n",
      "\n",
      "Enter Row number (0- 4 )\n",
      "0\n",
      "Enter Column number (0- 4 )\n",
      "0\n",
      "X| | | | |\n",
      "----------\n",
      " | | | | |\n",
      "----------\n",
      " | | | | |\n",
      "----------\n",
      " | | | | |\n",
      "----------\n",
      " | | | | |\n",
      "----------\n",
      "Computers's Turn:\n",
      "\n",
      "X|O| | | |\n",
      "----------\n",
      " | | | | |\n",
      "----------\n",
      " | | | | |\n",
      "----------\n",
      " | | | | |\n",
      "----------\n",
      " | | | | |\n",
      "----------\n",
      "Your Turn:\n",
      "\n",
      "Enter Row number (0- 4 )\n",
      "1\n",
      "Enter Column number (0- 4 )\n",
      "1\n",
      "X|O| | | |\n",
      "----------\n",
      " |X| | | |\n",
      "----------\n",
      " | | | | |\n",
      "----------\n",
      " | | | | |\n",
      "----------\n",
      " | | | | |\n",
      "----------\n",
      "Computers's Turn:\n",
      "\n",
      "X|O| | | |\n",
      "----------\n",
      "O|X| | | |\n",
      "----------\n",
      " | | | | |\n",
      "----------\n",
      " | | | | |\n",
      "----------\n",
      " | | | | |\n",
      "----------\n",
      "Your Turn:\n",
      "\n",
      "Enter Row number (0- 4 )\n",
      "2\n",
      "Enter Column number (0- 4 )\n",
      "2\n",
      "X|O| | | |\n",
      "----------\n",
      "O|X| | | |\n",
      "----------\n",
      " | |X| | |\n",
      "----------\n",
      " | | | | |\n",
      "----------\n",
      " | | | | |\n",
      "----------\n",
      "Computers's Turn:\n",
      "\n",
      "X|O| | | |\n",
      "----------\n",
      "O|X| | | |\n",
      "----------\n",
      " | |X|O| |\n",
      "----------\n",
      " | | | | |\n",
      "----------\n",
      " | | | | |\n",
      "----------\n",
      "Your Turn:\n",
      "\n",
      "Enter Row number (0- 4 )\n",
      "3\n",
      "Enter Column number (0- 4 )\n",
      "3\n",
      "X|O| | | |\n",
      "----------\n",
      "O|X| | | |\n",
      "----------\n",
      " | |X|O| |\n",
      "----------\n",
      " | | |X| |\n",
      "----------\n",
      " | | | | |\n",
      "----------\n",
      "Computers's Turn:\n",
      "\n",
      "X|O| | | |\n",
      "----------\n",
      "O|X| | | |\n",
      "----------\n",
      " | |X|O| |\n",
      "----------\n",
      " | |O|X| |\n",
      "----------\n",
      " | | | | |\n",
      "----------\n",
      "Your Turn:\n",
      "\n",
      "Enter Row number (0- 4 )\n",
      "4\n",
      "Enter Column number (0- 4 )\n",
      "4\n",
      "X|O| | | |\n",
      "----------\n",
      "O|X| | | |\n",
      "----------\n",
      " | |X|O| |\n",
      "----------\n",
      " | |O|X| |\n",
      "----------\n",
      " | | | |X|\n",
      "----------\n",
      "You Win!!!\n",
      "Do you want to play another game?(y/n).\n",
      "n\n"
     ]
    }
   ],
   "source": [
    "print(\"\\nStart Playing with Computer?(y/n)\")\n",
    "ans = input() \n",
    "while(ans == \"y\"):\n",
    "    \n",
    "    boardState = initializeBoard()\n",
    "    gameStatusFlag = True\n",
    "    gameHistory = []\n",
    "    print(\"Choose symbol: X or O\")\n",
    "    humanSymbol = input()\n",
    "    if(humanSymbol=='X'):\n",
    "        computerSymbol = 'O'\n",
    "    else:\n",
    "        computerSymbol = 'X'\n",
    "    print(\"\\nGame begins!!!\\n\")\n",
    "    \n",
    "    while(gameStatusFlag):\n",
    "        \n",
    "        if(humanSymbol=='X'):\n",
    "            print('Your Turn:\\n')\n",
    "            print('Enter Row number (0-',BoardSize-1,\")\")\n",
    "            x = int(input())\n",
    "            print('Enter Column number (0-',BoardSize-1,\")\")\n",
    "            y = int(input())\n",
    "            \n",
    "            boardState[x][y] = humanSymbol\n",
    "            printBoard(boardState)\n",
    "            gameHistory.append(boardState)\n",
    "            gameStatusFlag =  not isGameOver(boardState,humanSymbol)\n",
    "            if(gameStatusFlag == False):\n",
    "                break\n",
    "            boardState = chooseMove(boardState,computerSymbol,humanSymbol,learntWeight)\n",
    "            print('Computers\\'s Turn:\\n')\n",
    "            printBoard(boardState)\n",
    "            gameHistory.append(boardState)\n",
    "            gameStatusFlag = not isGameOver(boardState,computerSymbol)\n",
    "            \n",
    "        else:\n",
    "            boardState = chooseMove(boardState,computerSymbol,humanSymbol,learntWeight)\n",
    "            print('Computers\\'s Turn:\\n')\n",
    "            printBoard(boardState)\n",
    "            gameHistory.append(boardState)\n",
    "            gameStatusFlag = not isGameOver(boardState,computerSymbol)\n",
    "            if(gameStatusFlag == False):\n",
    "                break\n",
    "            print('Your Turn:\\n')\n",
    "            print(\"Enter Row number (0-\",BoardSize-1,\")\")\n",
    "            x = int(input())\n",
    "            print('Enter Column number (0-',BoardSize-1,\")\")\n",
    "            y = int(input())\n",
    "\n",
    "            boardState[x][y] = humanSymbol\n",
    "            printBoard(boardState)\n",
    "            gameHistory.append(boardState)\n",
    "            gameStatusFlag =  not isGameOver(boardState,humanSymbol)\n",
    "    \n",
    "    if(isGameOver(boardState,computerSymbol)):\n",
    "        print(\"Computer Wins!!!\")\n",
    "    elif(isGameOver(boardState,humanSymbol)):\n",
    "        print(\"You Win!!!\")\n",
    "    else:\n",
    "        print(\"Game is drawn!!!\")\n",
    "    print(\"Do you want to play another game?(y/n).\")\n",
    "    ans = input()\n",
    "    if(ans != 'y'):\n",
    "        break"
   ]
  }
 ],
 "metadata": {
  "colab": {
   "name": "Tic-Tac-Toe.ipynb",
   "provenance": []
  },
  "kernelspec": {
   "display_name": "Python 3",
   "language": "python",
   "name": "python3"
  },
  "language_info": {
   "codemirror_mode": {
    "name": "ipython",
    "version": 3
   },
   "file_extension": ".py",
   "mimetype": "text/x-python",
   "name": "python",
   "nbconvert_exporter": "python",
   "pygments_lexer": "ipython3",
   "version": "3.8.5"
  }
 },
 "nbformat": 4,
 "nbformat_minor": 1
}
