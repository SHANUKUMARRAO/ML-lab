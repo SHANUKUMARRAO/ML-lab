{
 "cells": [
  {
   "cell_type": "code",
   "execution_count": null,
   "metadata": {},
   "outputs": [],
   "source": [
    "Machine Learning Lab Q1\n",
    "Roll number: 187159\n",
    "Name:Shanu kumar\n",
    "section: A"
   ]
  },
  {
   "cell_type": "code",
   "execution_count": 1,
   "metadata": {},
   "outputs": [],
   "source": [
    "import numpy as np\n",
    "import pandas as pd\n",
    "import matplotlib.pyplot as plt\n",
    "def predict(X,weights):\n",
    "    obs=np.dot(weights,X)\n",
    "    if(obs>=0):\n",
    "        obs=1\n",
    "    else:\n",
    "        obs=0\n",
    "    return obs;\n",
    "# perceptronTrain\n",
    "def perceptronTrain(X,Y,mu,epoch):\n",
    "    weights = np.full(len(X.iloc[1]),2.0)\n",
    "    for t in range(epoch):\n",
    "        error=0;\n",
    "        for i in range(len(X)):\n",
    "            prediction=predict(X.iloc[i],weights)\n",
    "            error+=(Y[i]-prediction)**2\n",
    "            weights+= mu*(Y[i]-prediction)*X.iloc[i]     \n",
    "        if(error==0):\n",
    "            break;\n",
    "    return weights\n",
    "def plotting(weights,X,Y):\n",
    "    x1=[min(X.iloc[:,1]),max(X.iloc[:,1])]\n",
    "    m=-weights[1]/weights[2]\n",
    "    c=-weights[0]/weights[2]\n",
    "    x2=np.asarray(x1)*m+c\n",
    "    color=[]\n",
    "    for i in Y:\n",
    "        if(i==1):\n",
    "            color.append(\"black\")\n",
    "        else:\n",
    "            color.append(\"green\")\n",
    "    for i in range(4):\n",
    "        plt.scatter(X.iloc[i,1],X.iloc[i,2],c=color[i],s=100,linewidth=0)\n",
    "    plt.plot(x1,x2)\n",
    "    plt.show()"
   ]
  },
  {
   "cell_type": "code",
   "execution_count": 2,
   "metadata": {},
   "outputs": [
    {
     "ename": "SyntaxError",
     "evalue": "invalid syntax (<ipython-input-2-575c4fb75d2e>, line 1)",
     "output_type": "error",
     "traceback": [
      "\u001b[1;36m  File \u001b[1;32m\"<ipython-input-2-575c4fb75d2e>\"\u001b[1;36m, line \u001b[1;32m1\u001b[0m\n\u001b[1;33m    Perceptron Learning Algorithm on Logic Gates\u001b[0m\n\u001b[1;37m               ^\u001b[0m\n\u001b[1;31mSyntaxError\u001b[0m\u001b[1;31m:\u001b[0m invalid syntax\n"
     ]
    }
   ],
   "source": [
    "Perceptron Learning Algorithm on Logic Gates"
   ]
  },
  {
   "cell_type": "code",
   "execution_count": 3,
   "metadata": {},
   "outputs": [],
   "source": [
    "X = pd.DataFrame([[1,0,0],[1,0,1],[1,1,0],[1,1,1]])"
   ]
  },
  {
   "cell_type": "code",
   "execution_count": 4,
   "metadata": {},
   "outputs": [
    {
     "ename": "SyntaxError",
     "evalue": "invalid syntax (<ipython-input-4-826e41d22abb>, line 1)",
     "output_type": "error",
     "traceback": [
      "\u001b[1;36m  File \u001b[1;32m\"<ipython-input-4-826e41d22abb>\"\u001b[1;36m, line \u001b[1;32m1\u001b[0m\n\u001b[1;33m    AND GATE\u001b[0m\n\u001b[1;37m        ^\u001b[0m\n\u001b[1;31mSyntaxError\u001b[0m\u001b[1;31m:\u001b[0m invalid syntax\n"
     ]
    }
   ],
   "source": [
    "AND GATE"
   ]
  },
  {
   "cell_type": "code",
   "execution_count": 5,
   "metadata": {},
   "outputs": [
    {
     "name": "stdout",
     "output_type": "stream",
     "text": [
      "Weights for AND logic perceptron: \n",
      "0   -1.3\n",
      "1    0.8\n",
      "2    0.8\n",
      "Name: 0, dtype: float64\n",
      "AND LOGIC perceptron\n",
      "\n",
      " 0  0 output = 0\n",
      " 0  1 output = 0\n",
      " 1  0 output = 0\n",
      " 1  1 output = 1\n"
     ]
    },
    {
     "data": {
      "image/png": "[encoded data removed]",
      "text/plain": [
       "<Figure size 432x288 with 1 Axes>"
      ]
     },
     "metadata": {
      "needs_background": "light"
     },
     "output_type": "display_data"
    }
   ],
   "source": [
    "Y_AND = [0,0,0,1] #output labels for AND gate\n",
    "\n",
    "weights_AND = perceptronTrain(X,Y_AND,0.3,10)\n",
    "\n",
    "print(\"Weights for AND logic perceptron: \")\n",
    "print(weights_AND)\n",
    "\n",
    "print('AND LOGIC perceptron\\n')\n",
    "for i in range(len(X)):\n",
    "    prediction = predict(X.iloc[i,:],weights_AND)\n",
    "    print(X.iloc[[i],[1,2]].to_string(index=False,header=False),end = ' output = ')\n",
    "    print(prediction)\n",
    "\n",
    "    \n",
    "plotting(weights_AND,X,Y_AND)"
   ]
  },
  {
   "cell_type": "code",
   "execution_count": 6,
   "metadata": {},
   "outputs": [
    {
     "ename": "SyntaxError",
     "evalue": "invalid syntax (<ipython-input-6-1ad19f8d6c4f>, line 1)",
     "output_type": "error",
     "traceback": [
      "\u001b[1;36m  File \u001b[1;32m\"<ipython-input-6-1ad19f8d6c4f>\"\u001b[1;36m, line \u001b[1;32m1\u001b[0m\n\u001b[1;33m    OR GATE\u001b[0m\n\u001b[1;37m       ^\u001b[0m\n\u001b[1;31mSyntaxError\u001b[0m\u001b[1;31m:\u001b[0m invalid syntax\n"
     ]
    }
   ],
   "source": [
    "OR GATE"
   ]
  },
  {
   "cell_type": "code",
   "execution_count": 7,
   "metadata": {},
   "outputs": [
    {
     "name": "stdout",
     "output_type": "stream",
     "text": [
      "Weights for OR logic perceptron: \n",
      "0   -0.1\n",
      "1    2.0\n",
      "2    2.0\n",
      "Name: 0, dtype: float64\n",
      "OR LOGIC perceptron\n",
      "\n",
      " 0  0 output = 0\n",
      " 0  1 output = 1\n",
      " 1  0 output = 1\n",
      " 1  1 output = 1\n"
     ]
    },
    {
     "data": {
      "image/png": "[encoded data removed]",
      "text/plain": [
       "<Figure size 432x288 with 1 Axes>"
      ]
     },
     "metadata": {
      "needs_background": "light"
     },
     "output_type": "display_data"
    }
   ],
   "source": [
    "Y_OR  = [0,1,1,1] #output labels for OR gate\n",
    "\n",
    "#training on inputs\n",
    "\n",
    "weights_OR  = perceptronTrain(X,Y_OR,0.3,10)\n",
    "\n",
    "print(\"Weights for OR logic perceptron: \")\n",
    "print(weights_OR)\n",
    "\n",
    "print('OR LOGIC perceptron\\n')\n",
    "for i in range(len(X)):\n",
    "    prediction = predict(X.iloc[i,:],weights_OR)\n",
    "    print(X.iloc[[i],[1,2]].to_string(index=False,header=False),end = ' output = ')\n",
    "    print(prediction)\n",
    "plotting(weights_OR,X,Y_OR)"
   ]
  },
  {
   "cell_type": "code",
   "execution_count": 8,
   "metadata": {},
   "outputs": [
    {
     "ename": "SyntaxError",
     "evalue": "invalid syntax (<ipython-input-8-e734ac470952>, line 1)",
     "output_type": "error",
     "traceback": [
      "\u001b[1;36m  File \u001b[1;32m\"<ipython-input-8-e734ac470952>\"\u001b[1;36m, line \u001b[1;32m1\u001b[0m\n\u001b[1;33m    XOR GATE\u001b[0m\n\u001b[1;37m        ^\u001b[0m\n\u001b[1;31mSyntaxError\u001b[0m\u001b[1;31m:\u001b[0m invalid syntax\n"
     ]
    }
   ],
   "source": [
    "XOR GATE"
   ]
  },
  {
   "cell_type": "code",
   "execution_count": 9,
   "metadata": {},
   "outputs": [
    {
     "name": "stdout",
     "output_type": "stream",
     "text": [
      "Weights for XOR logic perceptron: \n",
      "0    0.2\n",
      "1   -0.4\n",
      "2   -0.1\n",
      "Name: 0, dtype: float64\n",
      "XOR LOGIC perceptron\n",
      "\n",
      " 0  0 output = 1\n",
      " 0  1 output = 1\n",
      " 1  0 output = 0\n",
      " 1  1 output = 0\n"
     ]
    },
    {
     "data": {
      "image/png": "[encoded data removed]",
      "text/plain": [
       "<Figure size 432x288 with 1 Axes>"
      ]
     },
     "metadata": {
      "needs_background": "light"
     },
     "output_type": "display_data"
    }
   ],
   "source": [
    "Y_XOR = [0,1,1,0] #output labels for XOR gate\n",
    "\n",
    "weights_XOR = perceptronTrain(X,Y_XOR,0.3,20)\n",
    "\n",
    "print(\"Weights for XOR logic perceptron: \")\n",
    "print(weights_XOR)\n",
    "\n",
    "print('XOR LOGIC perceptron\\n')\n",
    "for i in range(len(X)):\n",
    "    prediction = predict(X.iloc[i,:],weights_XOR)\n",
    "    print(X.iloc[[i],[1,2]].to_string(index=False,header=False),end = ' output = ')\n",
    "    print(prediction)\n",
    "\n",
    "plotting(weights_XOR,X,Y_XOR)"
   ]
  },
  {
   "cell_type": "code",
   "execution_count": 10,
   "metadata": {},
   "outputs": [
    {
     "ename": "SyntaxError",
     "evalue": "invalid syntax (<ipython-input-10-328e43034738>, line 1)",
     "output_type": "error",
     "traceback": [
      "\u001b[1;36m  File \u001b[1;32m\"<ipython-input-10-328e43034738>\"\u001b[1;36m, line \u001b[1;32m1\u001b[0m\n\u001b[1;33m    we are using multiple level perceptron because we cannot seperate xor using single perceptron\u001b[0m\n\u001b[1;37m       ^\u001b[0m\n\u001b[1;31mSyntaxError\u001b[0m\u001b[1;31m:\u001b[0m invalid syntax\n"
     ]
    }
   ],
   "source": [
    "we are using multiple level perceptron because we cannot seperate xor using single perceptron"
   ]
  },
  {
   "cell_type": "code",
   "execution_count": 12,
   "metadata": {},
   "outputs": [
    {
     "name": "stdout",
     "output_type": "stream",
     "text": [
      "Weights for AND logic perceptron: \n",
      "0    0.2\n",
      "1   -0.1\n",
      "2   -0.1\n",
      "Name: 0, dtype: float64\n",
      "NAND LOGIC perceptron\n",
      "\n",
      " 0  0 output = 1\n",
      " 0  1 output = 1\n",
      " 1  0 output = 1\n",
      " 1  1 output = 0\n"
     ]
    },
    {
     "data": {
      "image/png": "[encoded data removed]",
      "text/plain": [
       "<Figure size 432x288 with 1 Axes>"
      ]
     },
     "metadata": {
      "needs_background": "light"
     },
     "output_type": "display_data"
    }
   ],
   "source": [
    "Y_NAND = [1,1,1,0] #output labels for AND gate\n",
    "\n",
    "weights_NAND = perceptronTrain(X,Y_NAND,0.3,10)\n",
    "\n",
    "print(\"Weights for AND logic perceptron: \")\n",
    "print(weights_NAND)\n",
    "\n",
    "print('NAND LOGIC perceptron\\n')\n",
    "for i in range(len(X)):\n",
    "    prediction = predict(X.iloc[i,:],weights_NAND)\n",
    "    print(X.iloc[[i],[1,2]].to_string(index=False,header=False),end = ' output = ')\n",
    "    print(prediction)\n",
    "\n",
    "    \n",
    "plotting(weights_AND,X,Y_NAND)"
   ]
  },
  {
   "cell_type": "code",
   "execution_count": 13,
   "metadata": {},
   "outputs": [
    {
     "name": "stdout",
     "output_type": "stream",
     "text": [
      "XOR LOGIC perceptron\n",
      "\n",
      " 1  0 output = 0\n",
      " 1  1 output = 1\n",
      " 1  1 output = 1\n",
      " 0  1 output = 0\n"
     ]
    },
    {
     "data": {
      "image/png": "[encoded data removed]",
      "text/plain": [
       "<Figure size 432x288 with 1 Axes>"
      ]
     },
     "metadata": {
      "needs_background": "light"
     },
     "output_type": "display_data"
    }
   ],
   "source": [
    "Y1=[]\n",
    "Y2=[]\n",
    "for i in range(len(X)):\n",
    "    Y1.append(predict(weights_NAND,X.iloc[i,:]))\n",
    "    Y2.append(predict(weights_OR,X.iloc[i,:]))\n",
    "\n",
    "X_xor=pd.DataFrame({'a':np.full(len(Y1),1),'b':Y1,'c':Y2})\n",
    "Y_xor=[]\n",
    "\n",
    "#print(X_xor)\n",
    "\n",
    "print('XOR LOGIC perceptron\\n')\n",
    "\n",
    "for i in range(len(X_xor)):\n",
    "    prediction = predict(X_xor.iloc[i,:],weights_AND)\n",
    "    Y_xor.append(prediction)\n",
    "    print(X_xor.iloc[[i],[1,2]].to_string(index=False,header=False),end = ' output = ')\n",
    "    print(prediction)\n",
    "\n",
    "color=[]\n",
    "for i in Y_xor:\n",
    "        if(i==1):\n",
    "            color.append(\"blue\")\n",
    "        else:\n",
    "            color.append(\"red\")\n",
    "for i in range(4):\n",
    "        plt.scatter(X.iloc[i,1],X.iloc[i,2],c=color[i],s=100,linewidth=0)"
   ]
  },
  {
   "cell_type": "code",
   "execution_count": null,
   "metadata": {},
   "outputs": [],
   "source": [
    "END\n"
   ]
  }
 ],
 "metadata": {
  "kernelspec": {
   "display_name": "Python 3",
   "language": "python",
   "name": "python3"
  },
  "language_info": {
   "codemirror_mode": {
    "name": "ipython",
    "version": 3
   },
   "file_extension": ".py",
   "mimetype": "text/x-python",
   "name": "python",
   "nbconvert_exporter": "python",
   "pygments_lexer": "ipython3",
   "version": "3.8.5"
  }
 },
 "nbformat": 4,
 "nbformat_minor": 4
}
